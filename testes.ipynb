{
 "cells": [
  {
   "cell_type": "code",
   "execution_count": 2,
   "metadata": {},
   "outputs": [
    {
     "name": "stdout",
     "output_type": "stream",
     "text": [
      "200\n"
     ]
    }
   ],
   "source": [
    "import requests\n",
    "\n",
    "\n",
    "endpoint = \"https://api.lyrics.ovh/v1/titas/epitáfio\"\n",
    "\n",
    "response = requests.get(endpoint)\n",
    "print(response.status_code)"
   ]
  },
  {
   "cell_type": "code",
   "execution_count": 3,
   "metadata": {},
   "outputs": [
    {
     "name": "stdout",
     "output_type": "stream",
     "text": [
      "Devia ter amado mais\n",
      "Ter chorado mais\n",
      "Ter visto o sol nascer\n",
      "Devia ter arriscado mais e até errado mais\n",
      "Ter feito o que eu queria fazer\n",
      "Queria ter aceitado as pessoas como elas são\n",
      "\n",
      "Cada um sabe a alegria e a dor que traz no coração\n",
      "\n",
      "\n",
      "\n",
      "O acaso vai me proteger\n",
      "\n",
      "Enquanto eu andar distraído\n",
      "\n",
      "O acaso vai me proteger\n",
      "\n",
      "Enquanto eu andar...\n",
      "\n",
      "\n",
      "\n",
      "Devia ter complicado menos, trabalhado menos\n",
      "\n",
      "Ter visto o sol se pôr\n",
      "\n",
      "Devia ter me importado menos com problemas pequenos\n",
      "\n",
      "Ter morrido de amor\n",
      "\n",
      "Queria ter aceitado a vida como ela é\n",
      "\n",
      "A cada um cabe alegrias e a tristeza que vier\n",
      "\n",
      "\n",
      "\n",
      "O acaso vai me proteger\n",
      "\n",
      "Enquanto eu andar distraído\n",
      "\n",
      "O acaso vai me proteger\n",
      "\n",
      "Enquanto eu andar...\n",
      "\n",
      "\n",
      "\n",
      "Devia ter complicado menos, trabalhado menos\n",
      "\n",
      "Ter visto o sol se pôr.\n"
     ]
    }
   ],
   "source": [
    "print(response.json()['lyrics'])"
   ]
  }
 ],
 "metadata": {
  "kernelspec": {
   "display_name": "Python 3",
   "language": "python",
   "name": "python3"
  },
  "language_info": {
   "codemirror_mode": {
    "name": "ipython",
    "version": 3
   },
   "file_extension": ".py",
   "mimetype": "text/x-python",
   "name": "python",
   "nbconvert_exporter": "python",
   "pygments_lexer": "ipython3",
   "version": "3.12.1"
  }
 },
 "nbformat": 4,
 "nbformat_minor": 2
}
